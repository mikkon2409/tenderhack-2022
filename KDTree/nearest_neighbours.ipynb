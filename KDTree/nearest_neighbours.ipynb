{
 "cells": [
  {
   "cell_type": "code",
   "execution_count": 1,
   "metadata": {},
   "outputs": [],
   "source": [
    "import scipy as sp\n",
    "from scipy import spatial\n",
    "import sklearn as sl\n",
    "from sklearn import neighbors\n",
    "import numpy as np\n",
    "import pandas as pd"
   ]
  },
  {
   "cell_type": "code",
   "execution_count": 2,
   "metadata": {},
   "outputs": [],
   "source": [
    "data_frame = pd.read_pickle('..\\common\\samples\\СТЕ_vectorized.pickle')"
   ]
  },
  {
   "cell_type": "code",
   "execution_count": 3,
   "metadata": {},
   "outputs": [],
   "source": [
    "data_array = data_frame['Название СТЕ'].to_numpy()\n",
    "arr = np.vstack(data_array)"
   ]
  },
  {
   "cell_type": "code",
   "execution_count": null,
   "metadata": {},
   "outputs": [],
   "source": []
  },
  {
   "cell_type": "code",
   "execution_count": 75,
   "metadata": {},
   "outputs": [],
   "source": [
    "tree = neighbors.KDTree(arr)"
   ]
  },
  {
   "cell_type": "code",
   "execution_count": 4,
   "metadata": {},
   "outputs": [],
   "source": [
    "treee = spatial.KDTree(arr)"
   ]
  },
  {
   "cell_type": "code",
   "execution_count": 21,
   "metadata": {},
   "outputs": [
    {
     "data": {
      "text/plain": [
       "(array([0.        , 0.29503385, 0.2964346 , 0.30905175, 0.31290702]),\n",
       " array([356570, 108690, 333452, 179030, 345903], dtype=int64))"
      ]
     },
     "execution_count": 21,
     "metadata": {},
     "output_type": "execute_result"
    }
   ],
   "source": [
    "treee.query(arr[356570], 5)"
   ]
  },
  {
   "cell_type": "code",
   "execution_count": 10,
   "metadata": {},
   "outputs": [],
   "source": [
    "df = pd.read_pickle('../common/samples/СТЕ_База.pickle')"
   ]
  },
  {
   "cell_type": "code",
   "execution_count": 11,
   "metadata": {},
   "outputs": [
    {
     "data": {
      "text/html": [
       "<div>\n",
       "<style scoped>\n",
       "    .dataframe tbody tr th:only-of-type {\n",
       "        vertical-align: middle;\n",
       "    }\n",
       "\n",
       "    .dataframe tbody tr th {\n",
       "        vertical-align: top;\n",
       "    }\n",
       "\n",
       "    .dataframe thead th {\n",
       "        text-align: right;\n",
       "    }\n",
       "</style>\n",
       "<table border=\"1\" class=\"dataframe\">\n",
       "  <thead>\n",
       "    <tr style=\"text-align: right;\">\n",
       "      <th></th>\n",
       "      <th>ID СТЕ</th>\n",
       "      <th>Название СТЕ</th>\n",
       "      <th>Категория</th>\n",
       "      <th>Код КПГЗ</th>\n",
       "      <th>Характеристики</th>\n",
       "    </tr>\n",
       "  </thead>\n",
       "  <tbody>\n",
       "    <tr>\n",
       "      <th>0</th>\n",
       "      <td>1153097</td>\n",
       "      <td>мяч футбольный MIKASA REGATEADOR5-G</td>\n",
       "      <td>Мячи футбольные</td>\n",
       "      <td>01.08.01.13.01</td>\n",
       "      <td>[{\"Name\":\"Модель\",\"Id\":283795036,\"Value\":\"REGA...</td>\n",
       "    </tr>\n",
       "    <tr>\n",
       "      <th>1</th>\n",
       "      <td>1153130</td>\n",
       "      <td>мяч волейбольный Gala Pro-Line 10 FIVB</td>\n",
       "      <td>Мячи волейбольные</td>\n",
       "      <td>01.08.01.14.03.01</td>\n",
       "      <td>[{\"Name\":\"Марка\",\"Id\":284249992,\"Value\":\"Gala\"...</td>\n",
       "    </tr>\n",
       "    <tr>\n",
       "      <th>2</th>\n",
       "      <td>1153163</td>\n",
       "      <td>мяч волейбольный Mikasa MVA380K-OBL</td>\n",
       "      <td>Мячи волейбольные</td>\n",
       "      <td>01.08.01.14.03.01</td>\n",
       "      <td>[{\"Name\":\"Марка\",\"Id\":284249802,\"Value\":\"MIKAS...</td>\n",
       "    </tr>\n",
       "    <tr>\n",
       "      <th>3</th>\n",
       "      <td>1153174</td>\n",
       "      <td>мяч волейбольный Wilson Super Soft Play</td>\n",
       "      <td>Мячи волейбольные</td>\n",
       "      <td>01.08.01.14.03.01</td>\n",
       "      <td>[{\"Name\":\"Марка\",\"Id\":284246959,\"Value\":\"WILSO...</td>\n",
       "    </tr>\n",
       "    <tr>\n",
       "      <th>4</th>\n",
       "      <td>1159300</td>\n",
       "      <td>Gutrend комплект расходных материалов для FUN ...</td>\n",
       "      <td>Расходные материалы, комплектующие для прочего...</td>\n",
       "      <td>01.20.10.99</td>\n",
       "      <td>[{\"Name\":\"Тип\",\"Id\":284280400,\"Value\":\"Расходн...</td>\n",
       "    </tr>\n",
       "    <tr>\n",
       "      <th>...</th>\n",
       "      <td>...</td>\n",
       "      <td>...</td>\n",
       "      <td>...</td>\n",
       "      <td>...</td>\n",
       "      <td>...</td>\n",
       "    </tr>\n",
       "    <tr>\n",
       "      <th>356570</th>\n",
       "      <td>35228990</td>\n",
       "      <td>Шина 23x10.50-12 107A8 Starco AS LOADER TL</td>\n",
       "      <td>Шины для грузовых автомобилей и спецтехники, п...</td>\n",
       "      <td>01.09.08.10.05.02</td>\n",
       "      <td>[{\"Name\":\"Бескамерные\",\"Id\":369460372,\"Value\":...</td>\n",
       "    </tr>\n",
       "    <tr>\n",
       "      <th>356571</th>\n",
       "      <td>35229086</td>\n",
       "      <td>Кнопка включения рабочего освещения для минипо...</td>\n",
       "      <td>Запчасти к погрузчикам</td>\n",
       "      <td>01.09.08.03</td>\n",
       "      <td>[{\"Name\":\"Артикул запчасти\",\"Id\":369463362,\"Va...</td>\n",
       "    </tr>\n",
       "    <tr>\n",
       "      <th>356572</th>\n",
       "      <td>35231655</td>\n",
       "      <td>Обои флизелиновые под покраску NC Antivandal, ...</td>\n",
       "      <td>Обои</td>\n",
       "      <td>01.11.03.11.08</td>\n",
       "      <td>[{\"Name\":\"Описание\",\"Id\":369399594,\"Value\":\"со...</td>\n",
       "    </tr>\n",
       "    <tr>\n",
       "      <th>356573</th>\n",
       "      <td>35231695</td>\n",
       "      <td>Мусорное ведро Kimberly-Clark Aquarius белое п...</td>\n",
       "      <td>Контейнеры и другие емкости для мусора пластма...</td>\n",
       "      <td>01.20.03.03.06</td>\n",
       "      <td>[{\"Name\":\"Вид емкости\",\"Id\":369380812,\"Value\":...</td>\n",
       "    </tr>\n",
       "    <tr>\n",
       "      <th>356574</th>\n",
       "      <td>35231999</td>\n",
       "      <td>ВЕСЫ CAS DB-II 150 (Е)</td>\n",
       "      <td>Весы</td>\n",
       "      <td>01.20.99.01.05.02</td>\n",
       "      <td>[{\"Name\":\"Класс точности\",\"Id\":369436663,\"Valu...</td>\n",
       "    </tr>\n",
       "  </tbody>\n",
       "</table>\n",
       "<p>356575 rows × 5 columns</p>\n",
       "</div>"
      ],
      "text/plain": [
       "          ID СТЕ                                       Название СТЕ  \\\n",
       "0        1153097                мяч футбольный MIKASA REGATEADOR5-G   \n",
       "1        1153130             мяч волейбольный Gala Pro-Line 10 FIVB   \n",
       "2        1153163                мяч волейбольный Mikasa MVA380K-OBL   \n",
       "3        1153174            мяч волейбольный Wilson Super Soft Play   \n",
       "4        1159300  Gutrend комплект расходных материалов для FUN ...   \n",
       "...          ...                                                ...   \n",
       "356570  35228990         Шина 23x10.50-12 107A8 Starco AS LOADER TL   \n",
       "356571  35229086  Кнопка включения рабочего освещения для минипо...   \n",
       "356572  35231655  Обои флизелиновые под покраску NC Antivandal, ...   \n",
       "356573  35231695  Мусорное ведро Kimberly-Clark Aquarius белое п...   \n",
       "356574  35231999                             ВЕСЫ CAS DB-II 150 (Е)   \n",
       "\n",
       "                                                Категория           Код КПГЗ  \\\n",
       "0                                         Мячи футбольные     01.08.01.13.01   \n",
       "1                                      Мячи волейбольные   01.08.01.14.03.01   \n",
       "2                                      Мячи волейбольные   01.08.01.14.03.01   \n",
       "3                                      Мячи волейбольные   01.08.01.14.03.01   \n",
       "4       Расходные материалы, комплектующие для прочего...        01.20.10.99   \n",
       "...                                                   ...                ...   \n",
       "356570  Шины для грузовых автомобилей и спецтехники, п...  01.09.08.10.05.02   \n",
       "356571                             Запчасти к погрузчикам        01.09.08.03   \n",
       "356572                                               Обои     01.11.03.11.08   \n",
       "356573  Контейнеры и другие емкости для мусора пластма...     01.20.03.03.06   \n",
       "356574                                               Весы  01.20.99.01.05.02   \n",
       "\n",
       "                                           Характеристики  \n",
       "0       [{\"Name\":\"Модель\",\"Id\":283795036,\"Value\":\"REGA...  \n",
       "1       [{\"Name\":\"Марка\",\"Id\":284249992,\"Value\":\"Gala\"...  \n",
       "2       [{\"Name\":\"Марка\",\"Id\":284249802,\"Value\":\"MIKAS...  \n",
       "3       [{\"Name\":\"Марка\",\"Id\":284246959,\"Value\":\"WILSO...  \n",
       "4       [{\"Name\":\"Тип\",\"Id\":284280400,\"Value\":\"Расходн...  \n",
       "...                                                   ...  \n",
       "356570  [{\"Name\":\"Бескамерные\",\"Id\":369460372,\"Value\":...  \n",
       "356571  [{\"Name\":\"Артикул запчасти\",\"Id\":369463362,\"Va...  \n",
       "356572  [{\"Name\":\"Описание\",\"Id\":369399594,\"Value\":\"со...  \n",
       "356573  [{\"Name\":\"Вид емкости\",\"Id\":369380812,\"Value\":...  \n",
       "356574  [{\"Name\":\"Класс точности\",\"Id\":369436663,\"Valu...  \n",
       "\n",
       "[356575 rows x 5 columns]"
      ]
     },
     "execution_count": 11,
     "metadata": {},
     "output_type": "execute_result"
    }
   ],
   "source": [
    "df"
   ]
  },
  {
   "cell_type": "code",
   "execution_count": 25,
   "metadata": {},
   "outputs": [
    {
     "data": {
      "text/plain": [
       "'Проектор BenQ TH585 DLP, 1920x1080 FHD, 3500 AL, 95% Rec709, 1.1X, TR 1.50 - 1.65, HDMI x2, 16ms Low Input Lag, 10W Speaker, Digital L/S, White'"
      ]
     },
     "execution_count": 25,
     "metadata": {},
     "output_type": "execute_result"
    }
   ],
   "source": [
    "df['Название СТЕ'][345903]"
   ]
  }
 ],
 "metadata": {
  "kernelspec": {
   "display_name": "Python 3.8.10 ('venv': venv)",
   "language": "python",
   "name": "python3"
  },
  "language_info": {
   "codemirror_mode": {
    "name": "ipython",
    "version": 3
   },
   "file_extension": ".py",
   "mimetype": "text/x-python",
   "name": "python",
   "nbconvert_exporter": "python",
   "pygments_lexer": "ipython3",
   "version": "3.8.10"
  },
  "orig_nbformat": 4,
  "vscode": {
   "interpreter": {
    "hash": "e0549cfc7f88eb42924abeee81ce1c2587abf0fb45fc08c4bda0bfdec7b25209"
   }
  }
 },
 "nbformat": 4,
 "nbformat_minor": 2
}
